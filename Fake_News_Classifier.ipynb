{
  "nbformat": 4,
  "nbformat_minor": 0,
  "metadata": {
    "colab": {
      "name": "Fake_News_Classifier",
      "provenance": [],
      "collapsed_sections": []
    },
    "kernelspec": {
      "name": "python3",
      "display_name": "Python 3"
    },
    "language_info": {
      "name": "python"
    }
  },
  "cells": [
    {
      "cell_type": "code",
      "metadata": {
        "id": "9KpWX6Lwu2tq",
        "colab": {
          "base_uri": "https://localhost:8080/"
        },
        "outputId": "4a09dcf8-b724-47a9-ec4a-7cc507e2a1ec"
      },
      "source": [
        "!pip install nltk\n",
        "import nltk\n",
        "#nltk.download()\n",
        "import pandas as pd"
      ],
      "execution_count": null,
      "outputs": [
        {
          "output_type": "stream",
          "name": "stdout",
          "text": [
            "Requirement already satisfied: nltk in /usr/local/lib/python3.7/dist-packages (3.2.5)\n",
            "Requirement already satisfied: six in /usr/local/lib/python3.7/dist-packages (from nltk) (1.15.0)\n"
          ]
        }
      ]
    },
    {
      "cell_type": "code",
      "metadata": {
        "id": "PxwYTsqSwqsd"
      },
      "source": [
        "fake=pd.read_csv(\"/content/drive/MyDrive/PROJECTS/Fake_News_Classifier/Fake-211023-185413.csv\")\n",
        "true=pd.read_csv(\"/content/drive/MyDrive/PROJECTS/Fake_News_Classifier/True-211023-185340.csv\")"
      ],
      "execution_count": null,
      "outputs": []
    },
    {
      "cell_type": "code",
      "metadata": {
        "id": "xcAuzi9g55l2"
      },
      "source": [
        "fake[\"target\"]=0\n",
        "true[\"target\"]=1"
      ],
      "execution_count": null,
      "outputs": []
    },
    {
      "cell_type": "code",
      "metadata": {
        "id": "FGDnONJG6Ngj",
        "colab": {
          "base_uri": "https://localhost:8080/"
        },
        "outputId": "8a1eb081-75d7-4a8d-8dfa-fdc54b8b295e"
      },
      "source": [
        "dataset=pd.concat([fake,true],axis=0)\n",
        "dataset=dataset.reset_index(drop=True)\n",
        "print(dataset.head)"
      ],
      "execution_count": null,
      "outputs": [
        {
          "output_type": "stream",
          "name": "stdout",
          "text": [
            "<bound method NDFrame.head of                                                    title  ... target\n",
            "0       Donald Trump Sends Out Embarrassing New Year’...  ...      0\n",
            "1       Drunk Bragging Trump Staffer Started Russian ...  ...      0\n",
            "2       Sheriff David Clarke Becomes An Internet Joke...  ...      0\n",
            "3       Trump Is So Obsessed He Even Has Obama’s Name...  ...      0\n",
            "4       Pope Francis Just Called Out Donald Trump Dur...  ...      0\n",
            "...                                                  ...  ...    ...\n",
            "44893  'Fully committed' NATO backs new U.S. approach...  ...      1\n",
            "44894  LexisNexis withdrew two products from Chinese ...  ...      1\n",
            "44895  Minsk cultural hub becomes haven from authorities  ...      1\n",
            "44896  Vatican upbeat on possibility of Pope Francis ...  ...      1\n",
            "44897  Indonesia to buy $1.14 billion worth of Russia...  ...      1\n",
            "\n",
            "[44898 rows x 5 columns]>\n"
          ]
        }
      ]
    },
    {
      "cell_type": "code",
      "metadata": {
        "id": "_hqxA-037HHg",
        "colab": {
          "base_uri": "https://localhost:8080/"
        },
        "outputId": "7e022359-a0fc-4fac-d937-bcee142754d8"
      },
      "source": [
        "dataset=dataset.drop([\"subject\",\"title\",\"date\"],axis=1)\n",
        "print(dataset.head)"
      ],
      "execution_count": null,
      "outputs": [
        {
          "output_type": "stream",
          "name": "stdout",
          "text": [
            "<bound method NDFrame.head of                                                     text  target\n",
            "0      Donald Trump just couldn t wish all Americans ...       0\n",
            "1      House Intelligence Committee Chairman Devin Nu...       0\n",
            "2      On Friday, it was revealed that former Milwauk...       0\n",
            "3      On Christmas day, Donald Trump announced that ...       0\n",
            "4      Pope Francis used his annual Christmas Day mes...       0\n",
            "...                                                  ...     ...\n",
            "44893  BRUSSELS (Reuters) - NATO allies on Tuesday we...       1\n",
            "44894  LONDON (Reuters) - LexisNexis, a provider of l...       1\n",
            "44895  MINSK (Reuters) - In the shadow of disused Sov...       1\n",
            "44896  MOSCOW (Reuters) - Vatican Secretary of State ...       1\n",
            "44897  JAKARTA (Reuters) - Indonesia will buy 11 Sukh...       1\n",
            "\n",
            "[44898 rows x 2 columns]>\n"
          ]
        }
      ]
    },
    {
      "cell_type": "code",
      "metadata": {
        "id": "pQszuG1b8FPH",
        "colab": {
          "base_uri": "https://localhost:8080/"
        },
        "outputId": "bc66c85c-a4a1-4ddb-e9e4-febdf25e99e1"
      },
      "source": [
        "nltk.download('punkt')\n",
        "from nltk.tokenize import word_tokenize"
      ],
      "execution_count": null,
      "outputs": [
        {
          "output_type": "stream",
          "name": "stdout",
          "text": [
            "[nltk_data] Downloading package punkt to /root/nltk_data...\n",
            "[nltk_data]   Unzipping tokenizers/punkt.zip.\n"
          ]
        }
      ]
    },
    {
      "cell_type": "code",
      "metadata": {
        "id": "1oekYYzk8XuI"
      },
      "source": [
        "dataset[\"text\"]=dataset[\"text\"].apply(word_tokenize)"
      ],
      "execution_count": null,
      "outputs": []
    },
    {
      "cell_type": "code",
      "metadata": {
        "id": "zNrbbD2b8g5o"
      },
      "source": [
        "from nltk.stem.snowball import SnowballStemmer\n",
        "porter=SnowballStemmer(\"english\")\n"
      ],
      "execution_count": null,
      "outputs": []
    },
    {
      "cell_type": "code",
      "metadata": {
        "id": "Fb3tSXSj815p"
      },
      "source": [
        "def stem_item(text):\n",
        "  return[porter.stem(word) for word in text]"
      ],
      "execution_count": null,
      "outputs": []
    },
    {
      "cell_type": "code",
      "metadata": {
        "id": "Z6mAHnUw8_16"
      },
      "source": [
        "dataset[\"text\"]=dataset[\"text\"].apply(stem_item)"
      ],
      "execution_count": null,
      "outputs": []
    },
    {
      "cell_type": "code",
      "metadata": {
        "id": "JKUHF-sM_zaj"
      },
      "source": [
        "def stop_it(t):\n",
        "  w=[word for word in t if len(word)>2]\n",
        "  return w\n"
      ],
      "execution_count": null,
      "outputs": []
    },
    {
      "cell_type": "code",
      "metadata": {
        "id": "cNCb7SkBAoJz",
        "colab": {
          "base_uri": "https://localhost:8080/"
        },
        "outputId": "e6eb7fe3-58f4-4a70-c26e-2cdd9dc18dc7"
      },
      "source": [
        "dataset[\"text\"]=dataset[\"text\"].apply(stop_it)\n",
        "print(dataset.head)\n",
        "print(\"\\n\")\n",
        "dataset[\"text\"]=dataset[\"text\"].apply(\" \".join)\n",
        "print(dataset.head)"
      ],
      "execution_count": null,
      "outputs": [
        {
          "output_type": "stream",
          "name": "stdout",
          "text": [
            "<bound method NDFrame.head of                                                     text  target\n",
            "0      [donald, trump, just, couldn, wish, all, ameri...       0\n",
            "1      [hous, intellig, committe, chairman, devin, nu...       0\n",
            "2      [friday, was, reveal, that, former, milwauke, ...       0\n",
            "3      [christma, day, donald, trump, announc, that, ...       0\n",
            "4      [pope, franci, use, his, annual, christma, day...       0\n",
            "...                                                  ...     ...\n",
            "44893  [brussel, reuter, nato, alli, tuesday, welcom,...       1\n",
            "44894  [london, reuter, lexisnexi, provid, legal, reg...       1\n",
            "44895  [minsk, reuter, the, shadow, disus, soviet-era...       1\n",
            "44896  [moscow, reuter, vatican, secretari, state, ca...       1\n",
            "44897  [jakarta, reuter, indonesia, will, buy, sukhoi...       1\n",
            "\n",
            "[44898 rows x 2 columns]>\n",
            "\n",
            "\n",
            "<bound method NDFrame.head of                                                     text  target\n",
            "0      donald trump just couldn wish all american hap...       0\n",
            "1      hous intellig committe chairman devin nune hav...       0\n",
            "2      friday was reveal that former milwauke sheriff...       0\n",
            "3      christma day donald trump announc that would b...       0\n",
            "4      pope franci use his annual christma day messag...       0\n",
            "...                                                  ...     ...\n",
            "44893  brussel reuter nato alli tuesday welcom presid...       1\n",
            "44894  london reuter lexisnexi provid legal regulator...       1\n",
            "44895  minsk reuter the shadow disus soviet-era facto...       1\n",
            "44896  moscow reuter vatican secretari state cardin p...       1\n",
            "44897  jakarta reuter indonesia will buy sukhoi fight...       1\n",
            "\n",
            "[44898 rows x 2 columns]>\n"
          ]
        }
      ]
    },
    {
      "cell_type": "code",
      "metadata": {
        "id": "wZOnHGLXBCGh"
      },
      "source": [
        "from sklearn.model_selection import train_test_split\n",
        "from sklearn.feature_extraction.text import TfidfVectorizer\n",
        "tdif=TfidfVectorizer(max_df=0.7)\n",
        "tdif_data=tdif.fit_transform(dataset[\"text\"])"
      ],
      "execution_count": null,
      "outputs": []
    },
    {
      "cell_type": "code",
      "source": [
        "X_train,X_test,Y_train,Y_test  = train_test_split(tdif_data,dataset[\"target\"],test_size=0.25)"
      ],
      "metadata": {
        "id": "pXITXtY9Rh9t"
      },
      "execution_count": null,
      "outputs": []
    },
    {
      "cell_type": "code",
      "metadata": {
        "id": "gvAUURL3E-VC"
      },
      "source": [
        "from sklearn.linear_model import LogisticRegression\n",
        "from sklearn.metrics import accuracy_score\n",
        "model=LogisticRegression(max_iter=100)\n",
        "fitted_model=model.fit(X_train,Y_train)\n"
      ],
      "execution_count": null,
      "outputs": []
    },
    {
      "cell_type": "code",
      "metadata": {
        "id": "MEBjqnecGvdS",
        "colab": {
          "base_uri": "https://localhost:8080/"
        },
        "outputId": "2f96c61b-2407-40b5-9e3f-1ff3db6e36d2"
      },
      "source": [
        "y_pred=fitted_model.predict(X_test)\n",
        "accu=accuracy_score(Y_test,y_pred)\n",
        "print(\"Accuracy=\", accu*100)\n"
      ],
      "execution_count": null,
      "outputs": [
        {
          "output_type": "stream",
          "name": "stdout",
          "text": [
            "Accuracy= 98.81514476614699\n"
          ]
        }
      ]
    }
  ]
}